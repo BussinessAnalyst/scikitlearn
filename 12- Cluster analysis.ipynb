{
 "cells": [
  {
   "cell_type": "markdown",
   "metadata": {},
   "source": [
    "# Cluster Analysis\n",
    "\n",
    "Unsupervised learning \n",
    "\n",
    "segment the data into a set of homogeneous clusters of records\n",
    "\n",
    "Two popular clustering approaches\n",
    " * Hierarchical clustering\n",
    "     - Agglomerative: begins with n clusters and sequentially merge similar clusters until a single cluster is obtained\n",
    "     - Divisive: opposite of Agglomerative\n",
    " * K-means clustering\n",
    "\n",
    "Both methods need\n",
    "* Distance between records\n",
    "* Distance between clusters\n",
    "\n",
    "Normalize data before clustering"
   ]
  },
  {
   "cell_type": "markdown",
   "metadata": {},
   "source": [
    "## Measuring distane between records\n",
    "possible options\n",
    "- sklearn.metrics.pairwise\n",
    "- scipy.spatial.distance.pdist"
   ]
  },
  {
   "cell_type": "markdown",
   "metadata": {},
   "source": [
    "`from sklearn.metrics import pairwise`\n",
    "\n",
    "`d= pairwise.pairwise_distances(df, metric='euclidean')`"
   ]
  },
  {
   "cell_type": "markdown",
   "metadata": {},
   "source": [
    "Other options for metric:\n",
    "* 'cityblock'\n",
    "* 'euclidean'\n",
    "* 'l1' and 'l2'\n",
    "* 'manhattan'\n"
   ]
  },
  {
   "cell_type": "markdown",
   "metadata": {},
   "source": [
    "`from scipy.spatial.distance import pdist`\n",
    "\n",
    "`Y = pdist(X,metric='euclidean')`"
   ]
  },
  {
   "cell_type": "markdown",
   "metadata": {},
   "source": [
    "Other options for metric:\n",
    "- pdist(X, 'minkowski', p=2)\n",
    "- pdist(X, 'cityblock')\n",
    "- pdist(X, 'chebyshev')  $max_i|u_i-v_i|$\n",
    "- ..."
   ]
  },
  {
   "cell_type": "markdown",
   "metadata": {},
   "source": [
    "## Measuring distane between clusters\n",
    "* Minimum Distance: `single`\n",
    "* Maximum Distance: `complete`\n",
    "* Avg Distance: `average`\n",
    "* Centroid Distance: `centroid`\n",
    "* ward: `ward`\n",
    "* ...\n"
   ]
  },
  {
   "cell_type": "markdown",
   "metadata": {},
   "source": [
    "##  Hierarchical/agglomerative clustering\n",
    "* scipy.cluster.hierarchy.linkage\n",
    "* sklearn.cluster.AgglomerativeClustering\n"
   ]
  },
  {
   "cell_type": "markdown",
   "metadata": {},
   "source": [
    "#### scipy.cluster.hierarchy.linkage\n",
    "\n",
    "scipy.cluster.hierarchy.linkage(y, method='single', metric='euclidean', optimal_ordering=False)\n",
    "\n",
    "Returns $(n-1) \\times 4$ matrix `Z`: \n",
    "\n",
    "     - Z[i,0] and Z[i,1]: members of the culster `n+i`\n",
    "     - Z[i,2]: distance between  clusters Z[i,0] and Z[i,1]\n",
    "     - Z[i,3]:  the number of original observations in the newly formed cluster.\n",
    "\n",
    "* y: 1-D condensed distance matrix or 2-D array of records\n",
    "* method: distance between clusters u and v: \n",
    "    - single\n",
    "    - complete \n",
    "    - average \n",
    "    - centroid\n",
    "    - ...\n",
    "\n",
    "to plot hierarchy tree, use `scipy.cluster.hierarchy.dendrogram`"
   ]
  },
  {
   "cell_type": "markdown",
   "metadata": {},
   "source": [
    "#### Example "
   ]
  },
  {
   "cell_type": "code",
   "execution_count": 31,
   "metadata": {},
   "outputs": [
    {
     "data": {
      "text/plain": [
       "[[2], [8], [0], [4], [1], [9], [9], [0]]"
      ]
     },
     "execution_count": 31,
     "metadata": {},
     "output_type": "execute_result"
    }
   ],
   "source": [
    "from scipy.cluster.hierarchy import dendrogram, linkage\n",
    "X = [[i] for i in [2, 8, 0, 4, 1, 9, 9, 0]]\n",
    "X"
   ]
  },
  {
   "cell_type": "code",
   "execution_count": 32,
   "metadata": {},
   "outputs": [
    {
     "data": {
      "text/plain": [
       "array([[ 2.,  7.,  0.,  2.],\n",
       "       [ 5.,  6.,  0.,  2.],\n",
       "       [ 0.,  4.,  1.,  2.],\n",
       "       [ 8., 10.,  1.,  4.],\n",
       "       [ 1.,  9.,  1.,  3.],\n",
       "       [ 3., 11.,  2.,  5.],\n",
       "       [12., 13.,  4.,  8.]])"
      ]
     },
     "execution_count": 32,
     "metadata": {},
     "output_type": "execute_result"
    }
   ],
   "source": [
    "Z = linkage(X, 'single')\n",
    "Z"
   ]
  },
  {
   "cell_type": "markdown",
   "metadata": {},
   "source": [
    "How to interpert Z?\n",
    "\n",
    "In Z output, each row identifies a link between objects or clusters. The first two columns identify the objects that have been linked. The third column contains the distance between these objects, and the fourth column represents the number of objects in the cluster."
   ]
  },
  {
   "cell_type": "code",
   "execution_count": 21,
   "metadata": {},
   "outputs": [
    {
     "data": {
      "text/plain": [
       "0.0"
      ]
     },
     "execution_count": 21,
     "metadata": {},
     "output_type": "execute_result"
    }
   ],
   "source": [
    "# hight/distance\n",
    "Z[0,2]"
   ]
  },
  {
   "cell_type": "code",
   "execution_count": null,
   "metadata": {},
   "outputs": [],
   "source": [
    "array([[ 2.,  7.,  0.,  2.],#==> x[2] & x[7] is linked forming cluster x[8] ={x[2],x[7]}\n",
    "       [ 5.,  6.,  0.,  2.],#==>  x[9]\n",
    "       [ 0.,  4.,  1.,  2.],#==> x[10]={x[0],x[4]}\n",
    "       [ 8., 10.,  1.,  4.],#==> x[11]={x[0],x[4],x[2],x[7]}\n",
    "       [ 1.,  9.,  1.,  3.],#==> x[12]\n",
    "       [ 3., 11.,  2.,  5.],#==> x[13]\n",
    "       [12., 13.,  4.,  8.]])#==> x[14]"
   ]
  },
  {
   "cell_type": "code",
   "execution_count": 36,
   "metadata": {},
   "outputs": [
    {
     "data": {
      "image/png": "[encoded data removed]",
      "text/plain": [
       "<Figure size 432x288 with 1 Axes>"
      ]
     },
     "metadata": {
      "needs_background": "light"
     },
     "output_type": "display_data"
    }
   ],
   "source": [
    "dn = dendrogram(Z)\n",
    "plt.xlabel('Indices of the objects in the original data set')\n",
    "plt.ylabel('Height/Distance')\n",
    "plt.show()\n"
   ]
  },
  {
   "cell_type": "code",
   "execution_count": 6,
   "metadata": {},
   "outputs": [
    {
     "data": {
      "image/png": "[encoded data removed]",
      "text/plain": [
       "<Figure size 432x288 with 1 Axes>"
      ]
     },
     "metadata": {
      "needs_background": "light"
     },
     "output_type": "display_data"
    }
   ],
   "source": [
    "dn = dendrogram(Z,labels=X)\n",
    "plt.show()"
   ]
  },
  {
   "cell_type": "markdown",
   "metadata": {},
   "source": [
    "#### Verifying Dissimilarity:\n",
    "the height between two objects is knowen as the `cophenetic distance` between the two objects. Comparing cophenetic distance with the original distance gives insight on how well clusters are created by the `linkage` function.\n",
    "\n",
    "scipy.cluster.hierarchy.cophenet(Z,Y)"
   ]
  },
  {
   "cell_type": "code",
   "execution_count": 35,
   "metadata": {},
   "outputs": [
    {
     "data": {
      "text/plain": [
       "0.9205298676207505"
      ]
     },
     "execution_count": 35,
     "metadata": {},
     "output_type": "execute_result"
    }
   ],
   "source": [
    "from scipy.cluster.hierarchy import cophenet\n",
    "from scipy.spatial.distance import pdist\n",
    "Y = pdist(X,metric='euclidean')\n",
    "a,b =cophenet(Z,Y)\n",
    "a"
   ]
  },
  {
   "cell_type": "markdown",
   "metadata": {},
   "source": [
    "#### Verifying Consistency:\n",
    "\n",
    "`Inconsistency coefficient` for each link of the hierarchical cluster Z:\n",
    "\n",
    "It characterizes each link in a cluster tree by comparing its length with the average length of other links at the same level of the hierarchy. The higher the value of this coefficient, the less similar the objects connected by the link.\n",
    "\n",
    "scipy.cluster.hierarchy.inconsistent(Z,d=2):\n",
    "\n",
    "returns $(n-1) \\times 4$ matrix `R` where where the i’th row contains the link statistics for the non-singleton cluster i.\n",
    "\n",
    "link statistics are computed over the link heights for links $d$ levels below the cluster i.\n"
   ]
  },
  {
   "cell_type": "markdown",
   "metadata": {},
   "source": [
    "`R` (the output of the `inconsistent(Z)`):\n",
    "\n",
    "|  Column | Description |\n",
    "| --- | --- |\n",
    "|1 | Mean of the heights of all the links included in the calculation |\n",
    "| 2 | Standard deviation of all the links included in the calculation |\n",
    "| 3 | Number of links included in the calculation |\n",
    "| 4 | Inconsistency coefficient |"
   ]
  },
  {
   "cell_type": "markdown",
   "metadata": {},
   "source": [
    "The inconsistency value is calculated as\n",
    "\n",
    "$$R[i,3]=\\frac{Z[i,2]-R[i,0]}{R[i,1]}$$"
   ]
  },
  {
   "cell_type": "code",
   "execution_count": 14,
   "metadata": {},
   "outputs": [
    {
     "data": {
      "text/plain": [
       "array([[0.        , 0.        , 1.        , 0.        ],\n",
       "       [0.        , 0.        , 1.        , 0.        ],\n",
       "       [1.        , 0.        , 1.        , 0.        ],\n",
       "       [0.66666667, 0.57735027, 3.        , 0.57735027],\n",
       "       [0.5       , 0.70710678, 2.        , 0.70710678],\n",
       "       [1.5       , 0.70710678, 2.        , 0.70710678],\n",
       "       [2.33333333, 1.52752523, 3.        , 1.09108945]])"
      ]
     },
     "execution_count": 14,
     "metadata": {},
     "output_type": "execute_result"
    }
   ],
   "source": [
    "from scipy.cluster.hierarchy import inconsistent\n",
    "inconsistent(Z)"
   ]
  },
  {
   "cell_type": "markdown",
   "metadata": {},
   "source": [
    "i’th row of the `inconsistent(Z)` contains the link statistics for the non-singleton cluster i. \n",
    "For example, there are 3 links included in the calculation of the fourth row:\n",
    "\n",
    "|     Link       | Height/Distance |\n",
    "| --- | --- |\n",
    "| x[2] - x[7]    |   Z[0,2] = 0    |\n",
    "| x[0] - x[4]    |   Z[2,2] = 1    |\n",
    "| x[8] - x[10]   |   Z[3,2] = 1    |\n",
    "\n",
    "the mean of 0,1,1 is R[3,0]=0.66666667 and the standard deviation is R[3,1]= 0.57735027 (this is normalized, i.e. divided by `N-1`)."
   ]
  },
  {
   "cell_type": "code",
   "execution_count": 27,
   "metadata": {},
   "outputs": [
    {
     "data": {
      "text/plain": [
       "0.5773502691896258"
      ]
     },
     "execution_count": 27,
     "metadata": {},
     "output_type": "execute_result"
    }
   ],
   "source": [
    "import numpy as np\n",
    "np.mean([0,1,1])\n",
    "np.std([0,1,1],ddof=1)"
   ]
  },
  {
   "cell_type": "markdown",
   "metadata": {},
   "source": [
    "The inconsistency value is calculated as\n",
    "$$R[i,3]=\\frac{Z[i,2]-R[i,0]}{R[i,1]}= \\frac{1-0.6667}{0.57735}=0.57735$$"
   ]
  },
  {
   "cell_type": "markdown",
   "metadata": {},
   "source": [
    "For a cluster A, all the links below the cluster A, up to depth d, are considered to compute mean and std. In this example, d=2 means we look at the link that created x[11] (depth 1), and the links below x[8] and x[10] (depth 2)."
   ]
  },
  {
   "cell_type": "markdown",
   "metadata": {},
   "source": [
    "**To find membership to each cluster:**\n",
    "Form flat clusters from the hierarchical clustering defined by the given linkage matrix.\n",
    "\n",
    "scipy.cluster.hierarchy.fcluster(Z, t, criterion='inconsistent')\n",
    "\n",
    "* Z: linkage\n",
    "* t: scalar; depends on criterion\n",
    "    - if criterion= 'maxclust' or 'maxclust_monocrit' : max number of clusters requested\n",
    "    - if criterion= 'inconsistent', 'distance' or 'monocrit' : this is the threshold to apply when forming flat clusters.\n",
    "* criterion\n",
    "    - inconsistent: If a cluster node and all its descendants have an inconsistent value less than or equal to t, then all its leaf descendants belong to the same flat cluster. When no non-singleton cluster meets this criterion, every node is assigned to its own cluster. (Default)\n",
    "    - distance:  observations in each cluster have no greater a distance than t\n",
    "    - maxclust: Finds a minimum threshold `r` so that the distance between any two observations in the same cluster is no more than r and no more than t.\n",
    "    - monocrit:\n",
    "    - maxclust_monocrit:"
   ]
  },
  {
   "cell_type": "code",
   "execution_count": 35,
   "metadata": {},
   "outputs": [
    {
     "data": {
      "text/plain": [
       "array([2, 1, 2, 2, 2, 1, 1, 2], dtype=int32)"
      ]
     },
     "execution_count": 35,
     "metadata": {},
     "output_type": "execute_result"
    }
   ],
   "source": [
    "from scipy.cluster.hierarchy import fcluster\n",
    "memb = fcluster(linkage(X, 'single'), 2, criterion='maxclust')\n",
    "memb"
   ]
  },
  {
   "cell_type": "markdown",
   "metadata": {},
   "source": [
    "### Example"
   ]
  },
  {
   "cell_type": "code",
   "execution_count": 65,
   "metadata": {},
   "outputs": [
    {
     "data": {
      "text/html": [
       "<div>\n",
       "<style scoped>\n",
       "    .dataframe tbody tr th:only-of-type {\n",
       "        vertical-align: middle;\n",
       "    }\n",
       "\n",
       "    .dataframe tbody tr th {\n",
       "        vertical-align: top;\n",
       "    }\n",
       "\n",
       "    .dataframe thead th {\n",
       "        text-align: right;\n",
       "    }\n",
       "</style>\n",
       "<table border=\"1\" class=\"dataframe\">\n",
       "  <thead>\n",
       "    <tr style=\"text-align: right;\">\n",
       "      <th></th>\n",
       "      <th>Fixed_charge</th>\n",
       "      <th>RoR</th>\n",
       "      <th>Cost</th>\n",
       "      <th>Load_factor</th>\n",
       "      <th>Demand_growth</th>\n",
       "      <th>Sales</th>\n",
       "      <th>Nuclear</th>\n",
       "      <th>Fuel_Cost</th>\n",
       "    </tr>\n",
       "    <tr>\n",
       "      <th>Company</th>\n",
       "      <th></th>\n",
       "      <th></th>\n",
       "      <th></th>\n",
       "      <th></th>\n",
       "      <th></th>\n",
       "      <th></th>\n",
       "      <th></th>\n",
       "      <th></th>\n",
       "    </tr>\n",
       "  </thead>\n",
       "  <tbody>\n",
       "    <tr>\n",
       "      <th>Arizona</th>\n",
       "      <td>1.06</td>\n",
       "      <td>9.2</td>\n",
       "      <td>151</td>\n",
       "      <td>54.4</td>\n",
       "      <td>1.6</td>\n",
       "      <td>9077</td>\n",
       "      <td>0.0</td>\n",
       "      <td>0.628</td>\n",
       "    </tr>\n",
       "    <tr>\n",
       "      <th>Boston</th>\n",
       "      <td>0.89</td>\n",
       "      <td>10.3</td>\n",
       "      <td>202</td>\n",
       "      <td>57.9</td>\n",
       "      <td>2.2</td>\n",
       "      <td>5088</td>\n",
       "      <td>25.3</td>\n",
       "      <td>1.555</td>\n",
       "    </tr>\n",
       "    <tr>\n",
       "      <th>Central</th>\n",
       "      <td>1.43</td>\n",
       "      <td>15.4</td>\n",
       "      <td>113</td>\n",
       "      <td>53.0</td>\n",
       "      <td>3.4</td>\n",
       "      <td>9212</td>\n",
       "      <td>0.0</td>\n",
       "      <td>1.058</td>\n",
       "    </tr>\n",
       "    <tr>\n",
       "      <th>Commonwealth</th>\n",
       "      <td>1.02</td>\n",
       "      <td>11.2</td>\n",
       "      <td>168</td>\n",
       "      <td>56.0</td>\n",
       "      <td>0.3</td>\n",
       "      <td>6423</td>\n",
       "      <td>34.3</td>\n",
       "      <td>0.700</td>\n",
       "    </tr>\n",
       "    <tr>\n",
       "      <th>NY</th>\n",
       "      <td>1.49</td>\n",
       "      <td>8.8</td>\n",
       "      <td>192</td>\n",
       "      <td>51.2</td>\n",
       "      <td>1.0</td>\n",
       "      <td>3300</td>\n",
       "      <td>15.6</td>\n",
       "      <td>2.044</td>\n",
       "    </tr>\n",
       "  </tbody>\n",
       "</table>\n",
       "</div>"
      ],
      "text/plain": [
       "              Fixed_charge   RoR  Cost  Load_factor  Demand_growth  Sales  \\\n",
       "Company                                                                     \n",
       "Arizona               1.06   9.2   151         54.4            1.6   9077   \n",
       "Boston                0.89  10.3   202         57.9            2.2   5088   \n",
       "Central               1.43  15.4   113         53.0            3.4   9212   \n",
       "Commonwealth          1.02  11.2   168         56.0            0.3   6423   \n",
       "NY                    1.49   8.8   192         51.2            1.0   3300   \n",
       "\n",
       "              Nuclear  Fuel_Cost  \n",
       "Company                           \n",
       "Arizona           0.0      0.628  \n",
       "Boston           25.3      1.555  \n",
       "Central           0.0      1.058  \n",
       "Commonwealth     34.3      0.700  \n",
       "NY               15.6      2.044  "
      ]
     },
     "execution_count": 65,
     "metadata": {},
     "output_type": "execute_result"
    }
   ],
   "source": [
    "import dmba\n",
    "import pandas as pd\n",
    "df = dmba.load_data('Utilities.csv')\n",
    "df.set_index('Company', inplace=True)\n",
    "df.head(5)"
   ]
  },
  {
   "cell_type": "code",
   "execution_count": 72,
   "metadata": {},
   "outputs": [
    {
     "data": {
      "text/html": [
       "<div>\n",
       "<style scoped>\n",
       "    .dataframe tbody tr th:only-of-type {\n",
       "        vertical-align: middle;\n",
       "    }\n",
       "\n",
       "    .dataframe tbody tr th {\n",
       "        vertical-align: top;\n",
       "    }\n",
       "\n",
       "    .dataframe thead th {\n",
       "        text-align: right;\n",
       "    }\n",
       "</style>\n",
       "<table border=\"1\" class=\"dataframe\">\n",
       "  <thead>\n",
       "    <tr style=\"text-align: right;\">\n",
       "      <th></th>\n",
       "      <th>Fixed_charge</th>\n",
       "      <th>RoR</th>\n",
       "      <th>Cost</th>\n",
       "      <th>Load_factor</th>\n",
       "      <th>Demand_growth</th>\n",
       "      <th>Sales</th>\n",
       "      <th>Nuclear</th>\n",
       "      <th>Fuel_Cost</th>\n",
       "    </tr>\n",
       "    <tr>\n",
       "      <th>Company</th>\n",
       "      <th></th>\n",
       "      <th></th>\n",
       "      <th></th>\n",
       "      <th></th>\n",
       "      <th></th>\n",
       "      <th></th>\n",
       "      <th></th>\n",
       "      <th></th>\n",
       "    </tr>\n",
       "  </thead>\n",
       "  <tbody>\n",
       "    <tr>\n",
       "      <th>Arizona</th>\n",
       "      <td>-0.293158</td>\n",
       "      <td>-0.684639</td>\n",
       "      <td>-0.417122</td>\n",
       "      <td>-0.577715</td>\n",
       "      <td>-0.526228</td>\n",
       "      <td>0.045903</td>\n",
       "      <td>-0.714629</td>\n",
       "      <td>-0.853675</td>\n",
       "    </tr>\n",
       "    <tr>\n",
       "      <th>Boston</th>\n",
       "      <td>-1.214511</td>\n",
       "      <td>-0.194454</td>\n",
       "      <td>0.821002</td>\n",
       "      <td>0.206836</td>\n",
       "      <td>-0.333812</td>\n",
       "      <td>-1.077764</td>\n",
       "      <td>0.792048</td>\n",
       "      <td>0.813297</td>\n",
       "    </tr>\n",
       "    <tr>\n",
       "      <th>Central</th>\n",
       "      <td>1.712141</td>\n",
       "      <td>2.078224</td>\n",
       "      <td>-1.339646</td>\n",
       "      <td>-0.891536</td>\n",
       "      <td>0.051019</td>\n",
       "      <td>0.083931</td>\n",
       "      <td>-0.714629</td>\n",
       "      <td>-0.080431</td>\n",
       "    </tr>\n",
       "    <tr>\n",
       "      <th>Commonwealth</th>\n",
       "      <td>-0.509947</td>\n",
       "      <td>0.206607</td>\n",
       "      <td>-0.004414</td>\n",
       "      <td>-0.219063</td>\n",
       "      <td>-0.943128</td>\n",
       "      <td>-0.701706</td>\n",
       "      <td>1.328020</td>\n",
       "      <td>-0.724202</td>\n",
       "    </tr>\n",
       "    <tr>\n",
       "      <th>NY</th>\n",
       "      <td>2.037324</td>\n",
       "      <td>-0.862888</td>\n",
       "      <td>0.578233</td>\n",
       "      <td>-1.295019</td>\n",
       "      <td>-0.718643</td>\n",
       "      <td>-1.581428</td>\n",
       "      <td>0.214389</td>\n",
       "      <td>1.692638</td>\n",
       "    </tr>\n",
       "  </tbody>\n",
       "</table>\n",
       "</div>"
      ],
      "text/plain": [
       "              Fixed_charge       RoR      Cost  Load_factor  Demand_growth  \\\n",
       "Company                                                                      \n",
       "Arizona          -0.293158 -0.684639 -0.417122    -0.577715      -0.526228   \n",
       "Boston           -1.214511 -0.194454  0.821002     0.206836      -0.333812   \n",
       "Central           1.712141  2.078224 -1.339646    -0.891536       0.051019   \n",
       "Commonwealth     -0.509947  0.206607 -0.004414    -0.219063      -0.943128   \n",
       "NY                2.037324 -0.862888  0.578233    -1.295019      -0.718643   \n",
       "\n",
       "                 Sales   Nuclear  Fuel_Cost  \n",
       "Company                                      \n",
       "Arizona       0.045903 -0.714629  -0.853675  \n",
       "Boston       -1.077764  0.792048   0.813297  \n",
       "Central       0.083931 -0.714629  -0.080431  \n",
       "Commonwealth -0.701706  1.328020  -0.724202  \n",
       "NY           -1.581428  0.214389   1.692638  "
      ]
     },
     "execution_count": 72,
     "metadata": {},
     "output_type": "execute_result"
    }
   ],
   "source": [
    "df_norm = (df - df.mean())/df.std()\n",
    "df_norm.head(5)"
   ]
  },
  {
   "cell_type": "code",
   "execution_count": 91,
   "metadata": {},
   "outputs": [
    {
     "data": {
      "text/html": [
       "<div>\n",
       "<style scoped>\n",
       "    .dataframe tbody tr th:only-of-type {\n",
       "        vertical-align: middle;\n",
       "    }\n",
       "\n",
       "    .dataframe tbody tr th {\n",
       "        vertical-align: top;\n",
       "    }\n",
       "\n",
       "    .dataframe thead th {\n",
       "        text-align: right;\n",
       "    }\n",
       "</style>\n",
       "<table border=\"1\" class=\"dataframe\">\n",
       "  <thead>\n",
       "    <tr style=\"text-align: right;\">\n",
       "      <th>Company</th>\n",
       "      <th>Arizona</th>\n",
       "      <th>Boston</th>\n",
       "      <th>Central</th>\n",
       "      <th>Commonwealth</th>\n",
       "      <th>NY</th>\n",
       "      <th>Florida</th>\n",
       "      <th>Hawaiian</th>\n",
       "      <th>Idaho</th>\n",
       "      <th>Kentucky</th>\n",
       "      <th>Madison</th>\n",
       "      <th>...</th>\n",
       "      <th>Northern</th>\n",
       "      <th>Oklahoma</th>\n",
       "      <th>Pacific</th>\n",
       "      <th>Puget</th>\n",
       "      <th>San Diego</th>\n",
       "      <th>Southern</th>\n",
       "      <th>Texas</th>\n",
       "      <th>Wisconsin</th>\n",
       "      <th>United</th>\n",
       "      <th>Virginia</th>\n",
       "    </tr>\n",
       "    <tr>\n",
       "      <th>Company</th>\n",
       "      <th></th>\n",
       "      <th></th>\n",
       "      <th></th>\n",
       "      <th></th>\n",
       "      <th></th>\n",
       "      <th></th>\n",
       "      <th></th>\n",
       "      <th></th>\n",
       "      <th></th>\n",
       "      <th></th>\n",
       "      <th></th>\n",
       "      <th></th>\n",
       "      <th></th>\n",
       "      <th></th>\n",
       "      <th></th>\n",
       "      <th></th>\n",
       "      <th></th>\n",
       "      <th></th>\n",
       "      <th></th>\n",
       "      <th></th>\n",
       "      <th></th>\n",
       "    </tr>\n",
       "  </thead>\n",
       "  <tbody>\n",
       "    <tr>\n",
       "      <th>Arizona</th>\n",
       "      <td>0.000000</td>\n",
       "      <td>2.010329</td>\n",
       "      <td>0.774179</td>\n",
       "      <td>0.758738</td>\n",
       "      <td>3.021907</td>\n",
       "      <td>1.244422</td>\n",
       "      <td>1.885248</td>\n",
       "      <td>1.265638</td>\n",
       "      <td>0.461292</td>\n",
       "      <td>0.738650</td>\n",
       "      <td>...</td>\n",
       "      <td>0.564657</td>\n",
       "      <td>0.182648</td>\n",
       "      <td>1.570780</td>\n",
       "      <td>1.947668</td>\n",
       "      <td>2.509043</td>\n",
       "      <td>0.913621</td>\n",
       "      <td>1.247976</td>\n",
       "      <td>0.521491</td>\n",
       "      <td>2.761745</td>\n",
       "      <td>1.252350</td>\n",
       "    </tr>\n",
       "    <tr>\n",
       "      <th>Boston</th>\n",
       "      <td>2.010329</td>\n",
       "      <td>0.000000</td>\n",
       "      <td>1.465703</td>\n",
       "      <td>1.582821</td>\n",
       "      <td>1.013370</td>\n",
       "      <td>1.792397</td>\n",
       "      <td>0.740283</td>\n",
       "      <td>3.176654</td>\n",
       "      <td>1.557738</td>\n",
       "      <td>1.719632</td>\n",
       "      <td>...</td>\n",
       "      <td>1.940166</td>\n",
       "      <td>2.166078</td>\n",
       "      <td>0.478334</td>\n",
       "      <td>3.501390</td>\n",
       "      <td>0.679634</td>\n",
       "      <td>1.634425</td>\n",
       "      <td>2.890560</td>\n",
       "      <td>1.654255</td>\n",
       "      <td>1.100595</td>\n",
       "      <td>1.479261</td>\n",
       "    </tr>\n",
       "    <tr>\n",
       "      <th>Central</th>\n",
       "      <td>0.774179</td>\n",
       "      <td>1.465703</td>\n",
       "      <td>0.000000</td>\n",
       "      <td>1.015710</td>\n",
       "      <td>2.432528</td>\n",
       "      <td>0.631892</td>\n",
       "      <td>1.156092</td>\n",
       "      <td>1.732777</td>\n",
       "      <td>0.419254</td>\n",
       "      <td>1.102287</td>\n",
       "      <td>...</td>\n",
       "      <td>1.113433</td>\n",
       "      <td>0.855093</td>\n",
       "      <td>0.987772</td>\n",
       "      <td>2.065643</td>\n",
       "      <td>1.836762</td>\n",
       "      <td>0.276440</td>\n",
       "      <td>1.428159</td>\n",
       "      <td>0.838967</td>\n",
       "      <td>2.034824</td>\n",
       "      <td>0.510365</td>\n",
       "    </tr>\n",
       "    <tr>\n",
       "      <th>Commonwealth</th>\n",
       "      <td>0.758738</td>\n",
       "      <td>1.582821</td>\n",
       "      <td>1.015710</td>\n",
       "      <td>0.000000</td>\n",
       "      <td>2.571969</td>\n",
       "      <td>1.643857</td>\n",
       "      <td>1.746027</td>\n",
       "      <td>2.003230</td>\n",
       "      <td>0.629994</td>\n",
       "      <td>0.138758</td>\n",
       "      <td>...</td>\n",
       "      <td>0.377004</td>\n",
       "      <td>0.937389</td>\n",
       "      <td>1.258835</td>\n",
       "      <td>2.699060</td>\n",
       "      <td>2.202930</td>\n",
       "      <td>1.278514</td>\n",
       "      <td>1.998818</td>\n",
       "      <td>0.243408</td>\n",
       "      <td>2.547116</td>\n",
       "      <td>1.502093</td>\n",
       "    </tr>\n",
       "    <tr>\n",
       "      <th>NY</th>\n",
       "      <td>3.021907</td>\n",
       "      <td>1.013370</td>\n",
       "      <td>2.432528</td>\n",
       "      <td>2.571969</td>\n",
       "      <td>0.000000</td>\n",
       "      <td>2.635573</td>\n",
       "      <td>1.411695</td>\n",
       "      <td>4.162561</td>\n",
       "      <td>2.566439</td>\n",
       "      <td>2.705445</td>\n",
       "      <td>...</td>\n",
       "      <td>2.938637</td>\n",
       "      <td>3.174588</td>\n",
       "      <td>1.462019</td>\n",
       "      <td>4.397433</td>\n",
       "      <td>0.715629</td>\n",
       "      <td>2.558409</td>\n",
       "      <td>3.831132</td>\n",
       "      <td>2.661786</td>\n",
       "      <td>0.952507</td>\n",
       "      <td>2.328691</td>\n",
       "    </tr>\n",
       "  </tbody>\n",
       "</table>\n",
       "<p>5 rows × 22 columns</p>\n",
       "</div>"
      ],
      "text/plain": [
       "Company       Arizona    Boston   Central   Commonwealth        NY  Florida   \\\n",
       "Company                                                                        \n",
       "Arizona       0.000000  2.010329  0.774179      0.758738  3.021907  1.244422   \n",
       "Boston        2.010329  0.000000  1.465703      1.582821  1.013370  1.792397   \n",
       "Central       0.774179  1.465703  0.000000      1.015710  2.432528  0.631892   \n",
       "Commonwealth  0.758738  1.582821  1.015710      0.000000  2.571969  1.643857   \n",
       "NY            3.021907  1.013370  2.432528      2.571969  0.000000  2.635573   \n",
       "\n",
       "Company       Hawaiian      Idaho  Kentucky  Madison   ...  Northern  \\\n",
       "Company                                                ...             \n",
       "Arizona        1.885248  1.265638  0.461292  0.738650  ...  0.564657   \n",
       "Boston         0.740283  3.176654  1.557738  1.719632  ...  1.940166   \n",
       "Central        1.156092  1.732777  0.419254  1.102287  ...  1.113433   \n",
       "Commonwealth   1.746027  2.003230  0.629994  0.138758  ...  0.377004   \n",
       "NY             1.411695  4.162561  2.566439  2.705445  ...  2.938637   \n",
       "\n",
       "Company       Oklahoma  Pacific      Puget  San Diego  Southern     Texas  \\\n",
       "Company                                                                     \n",
       "Arizona       0.182648  1.570780  1.947668   2.509043  0.913621  1.247976   \n",
       "Boston        2.166078  0.478334  3.501390   0.679634  1.634425  2.890560   \n",
       "Central       0.855093  0.987772  2.065643   1.836762  0.276440  1.428159   \n",
       "Commonwealth  0.937389  1.258835  2.699060   2.202930  1.278514  1.998818   \n",
       "NY            3.174588  1.462019  4.397433   0.715629  2.558409  3.831132   \n",
       "\n",
       "Company       Wisconsin    United  Virginia  \n",
       "Company                                      \n",
       "Arizona        0.521491  2.761745  1.252350  \n",
       "Boston         1.654255  1.100595  1.479261  \n",
       "Central        0.838967  2.034824  0.510365  \n",
       "Commonwealth   0.243408  2.547116  1.502093  \n",
       "NY             2.661786  0.952507  2.328691  \n",
       "\n",
       "[5 rows x 22 columns]"
      ]
     },
     "execution_count": 91,
     "metadata": {},
     "output_type": "execute_result"
    }
   ],
   "source": [
    "from sklearn.metrics import pairwise\n",
    "d = pairwise.pairwise_distances(df_norm[['Sales', 'Fuel_Cost']], \n",
    "                                metric='euclidean')\n",
    "pd.DataFrame(d, columns=df.index, index=df.index).head(5)"
   ]
  },
  {
   "cell_type": "code",
   "execution_count": 92,
   "metadata": {},
   "outputs": [
    {
     "data": {
      "image/png": "[encoded data removed]",
      "text/plain": [
       "<Figure size 720x432 with 1 Axes>"
      ]
     },
     "metadata": {
      "needs_background": "light"
     },
     "output_type": "display_data"
    }
   ],
   "source": [
    "Z = linkage(df_norm, method='single')\n",
    "fig = plt.figure(figsize=(10, 6))\n",
    "dendrogram(Z,labels=df_norm.index)\n",
    "plt.axhline(y=2.75, color='black', linewidth=0.5, linestyle='dashed')\n",
    "plt.show()"
   ]
  },
  {
   "cell_type": "code",
   "execution_count": 93,
   "metadata": {},
   "outputs": [
    {
     "data": {
      "text/plain": [
       "array([[1.38412377, 0.        , 1.        , 0.        ],\n",
       "       [1.40703194, 0.        , 1.        , 0.        ],\n",
       "       [1.44922941, 0.05967625, 2.        , 0.70710678],\n",
       "       [1.5220853 , 0.19510706, 2.        , 0.70710678],\n",
       "       [1.65394587, 0.22983654, 2.        , 0.70710678],\n",
       "       [1.87605148, 0.        , 1.        , 0.        ],\n",
       "       [1.87724763, 0.        , 1.        , 0.        ],\n",
       "       [1.87859857, 0.30907884, 2.        , 0.70710678],\n",
       "       [1.95559625, 0.13674099, 3.        , 1.15468949],\n",
       "       [1.99033872, 0.24589481, 2.        , 0.70710678],\n",
       "       [2.20145718, 0.        , 1.        , 0.        ],\n",
       "       [2.19327139, 0.11347615, 3.        , 1.1031381 ],\n",
       "       [2.37018375, 0.07316079, 2.        , 0.70710678],\n",
       "       [2.27101133, 0.22276931, 2.        , 0.70710678],\n",
       "       [2.43412817, 0.01577227, 3.        , 1.12901192],\n",
       "       [2.51657171, 0.09140975, 2.        , 0.70710678],\n",
       "       [2.6525811 , 0.10093657, 2.        , 0.70710678],\n",
       "       [2.55427262, 0.30562115, 3.        , 0.59921905],\n",
       "       [2.91620417, 0.2528579 , 2.        , 0.70710678],\n",
       "       [3.26248193, 0.2368528 , 2.        , 0.70710678],\n",
       "       [3.5169126 , 0.12296651, 2.        , 0.70710678]])"
      ]
     },
     "execution_count": 93,
     "metadata": {},
     "output_type": "execute_result"
    }
   ],
   "source": [
    "from scipy.cluster.hierarchy import inconsistent\n",
    "inconsistent(Z)"
   ]
  },
  {
   "cell_type": "code",
   "execution_count": 89,
   "metadata": {},
   "outputs": [
    {
     "data": {
      "text/plain": [
       "0.6023456320097699"
      ]
     },
     "execution_count": 89,
     "metadata": {},
     "output_type": "execute_result"
    }
   ],
   "source": [
    "from scipy.cluster.hierarchy import cophenet\n",
    "Y = pdist(df_norm[['Sales', 'Fuel_Cost']],metric='euclidean')\n",
    "c , distance_matrix= cophenet(Z,Y)\n",
    "c"
   ]
  },
  {
   "cell_type": "code",
   "execution_count": 82,
   "metadata": {},
   "outputs": [
    {
     "data": {
      "text/plain": [
       "array([2, 2, 3, 2, 6, 2, 2, 1, 2, 2, 5, 2, 2, 2, 2, 1, 4, 2, 2, 2, 2, 2],\n",
       "      dtype=int32)"
      ]
     },
     "execution_count": 82,
     "metadata": {},
     "output_type": "execute_result"
    }
   ],
   "source": [
    "from scipy.cluster.hierarchy import fcluster\n",
    "memb = fcluster(linkage(df_norm, 'single'), 6, criterion='maxclust')\n",
    "memb"
   ]
  },
  {
   "cell_type": "code",
   "execution_count": 85,
   "metadata": {},
   "outputs": [
    {
     "data": {
      "text/plain": [
       "Company\n",
       "Puget           1\n",
       "Idaho           1\n",
       "Arizona         2\n",
       "Wisconsin       2\n",
       "Texas           2\n",
       "Southern        2\n",
       "Pacific         2\n",
       "Oklahoma        2\n",
       "Northern        2\n",
       "New England     2\n",
       "Virginia        2\n",
       "Madison         2\n",
       "Kentucky        2\n",
       "Hawaiian        2\n",
       "Florida         2\n",
       "Commonwealth    2\n",
       "Boston          2\n",
       "United          2\n",
       "Central         3\n",
       "San Diego       4\n",
       "Nevada          5\n",
       "NY              6\n",
       "dtype: int32"
      ]
     },
     "execution_count": 85,
     "metadata": {},
     "output_type": "execute_result"
    }
   ],
   "source": [
    "memb=pd.Series(memb, index=df_norm.index)\n",
    "memb.sort_values()"
   ]
  },
  {
   "cell_type": "code",
   "execution_count": 86,
   "metadata": {},
   "outputs": [
    {
     "data": {
      "text/plain": [
       "Company\n",
       "Nevada          1\n",
       "Puget           1\n",
       "Idaho           1\n",
       "Pacific         2\n",
       "Hawaiian        2\n",
       "New England     2\n",
       "United          2\n",
       "San Diego       3\n",
       "Wisconsin       4\n",
       "Northern        4\n",
       "Virginia        4\n",
       "Commonwealth    4\n",
       "Boston          4\n",
       "Madison         4\n",
       "Kentucky        5\n",
       "Florida         5\n",
       "Oklahoma        5\n",
       "Central         5\n",
       "Southern        5\n",
       "Texas           5\n",
       "Arizona         5\n",
       "NY              6\n",
       "dtype: int32"
      ]
     },
     "execution_count": 86,
     "metadata": {},
     "output_type": "execute_result"
    }
   ],
   "source": [
    "from scipy.cluster.hierarchy import fcluster\n",
    "memb = fcluster(linkage(df_norm, 'average'), 6, criterion='maxclust')\n",
    "memb=pd.Series(memb, index=df_norm.index)\n",
    "memb.sort_values()"
   ]
  },
  {
   "cell_type": "markdown",
   "metadata": {},
   "source": [
    "### klearn.cluster.AgglomerativeClustering\n",
    "sklearn.cluster.AgglomerativeClustering(n_clusters=2,affinity='euclidean', linkage='ward')\n",
    "**Arguments:**\n",
    "\n",
    "- affinity: {“euclidean”, “l1”, “l2”, “manhattan”}:default=’euclidean’ Metric used to compute the linkage. \n",
    "- linkage{‘ward’, ‘complete’, ‘average’, ‘single’}, default=’ward\n",
    "    Which linkage criterion to use. The linkage criterion determines which distance to use between sets of observation. The algorithm will merge the pairs of cluster that minimize this criterion.\n",
    "   - ‘ward’ minimizes the variance of the clusters being merged.\n",
    "   - ‘average’ uses the average of the distances of each observation of the two sets.\n",
    "   - ‘complete’ or ‘maximum’ linkage uses the maximum distances between all observations of the two sets.\n",
    "   - ‘single’ uses the minimum of the distances between all observations of the two sets.\n",
    "\n",
    "**Attributes:**\n",
    "\n",
    " - n_clusters_: The number of clusters found by the algorithm\n",
    " - labels_: Cluster labels for each point.\n",
    " - n_leaves_: Number of leaves in the hierarchical tree\n",
    " - children_: The children of each non-leaf node.\n",
    " - distances_: Distances between nodes of `children_`\n",
    "\n",
    "**Methods:**\n",
    "\n",
    " - fit(X[, y]): Fit the hierarchical clustering from features, or distance matrix.\n",
    " - fit_predict(X[, y]): Fit and return the result of each sample's clustering assignment.\n",
    " "
   ]
  },
  {
   "cell_type": "markdown",
   "metadata": {},
   "source": [
    "#### Example 1"
   ]
  },
  {
   "cell_type": "code",
   "execution_count": null,
   "metadata": {},
   "outputs": [],
   "source": [
    "from sklearn.cluster import AgglomerativeClustering\n",
    "import numpy as np\n",
    "X = np.array([[1, 2], [1, 4], [1, 0],\n",
    "               [4, 2], [4, 4], [4, 0]])\n",
    "print(X)\n",
    "clustering = AgglomerativeClustering(linkage=\"single\",n_clusters=3).fit(X)\n",
    "print(clustering.labels_)"
   ]
  },
  {
   "cell_type": "markdown",
   "metadata": {},
   "source": [
    "#### Example 2. Utilities"
   ]
  },
  {
   "cell_type": "code",
   "execution_count": 20,
   "metadata": {},
   "outputs": [
    {
     "data": {
      "text/plain": [
       "array([0, 0, 5, 0, 3, 0, 0, 1, 0, 0, 2, 0, 0, 0, 0, 1, 4, 0, 0, 0, 0, 0],\n",
       "      dtype=int64)"
      ]
     },
     "execution_count": 20,
     "metadata": {},
     "output_type": "execute_result"
    }
   ],
   "source": [
    "###### import dmba\n",
    "import pandas as pd\n",
    "df = dmba.load_data('Utilities.csv')\n",
    "df.set_index('Company', inplace=True)\n",
    "df_norm = (df - df.mean())/df.std()\n",
    "df_norm.head(5)\n",
    "clustering = AgglomerativeClustering(linkage='single', n_clusters=6)\n",
    "clustering.fit(df_norm)\n",
    "clustering.labels_"
   ]
  },
  {
   "cell_type": "code",
   "execution_count": 21,
   "metadata": {},
   "outputs": [
    {
     "data": {
      "text/plain": [
       "Company\n",
       "Arizona         0\n",
       "Wisconsin       0\n",
       "Texas           0\n",
       "Southern        0\n",
       "Pacific         0\n",
       "Oklahoma        0\n",
       "Northern        0\n",
       "New England     0\n",
       "United          0\n",
       "Virginia        0\n",
       "Kentucky        0\n",
       "Hawaiian        0\n",
       "Florida         0\n",
       "Commonwealth    0\n",
       "Boston          0\n",
       "Madison         0\n",
       "Idaho           1\n",
       "Puget           1\n",
       "Nevada          2\n",
       "NY              3\n",
       "San Diego       4\n",
       "Central         5\n",
       "dtype: int64"
      ]
     },
     "execution_count": 21,
     "metadata": {},
     "output_type": "execute_result"
    }
   ],
   "source": [
    "memb=pd.Series(clustering.labels_, index=df_norm.index)\n",
    "memb.sort_values()"
   ]
  },
  {
   "cell_type": "markdown",
   "metadata": {},
   "source": [
    "##  K-Mean clustering\n",
    "Partitions data into k mutually exclusive clusters of equal variance, minimizing a criterion known as the inertia or within-cluster sum-of-squares, $\\sum_{i=0}^{n} min_{\\mu_j \\in C}(||x_i-\\mu_j||^2)$ where $\\mu_j$ is the centriod of the cluster j.\n",
    "\n",
    "**inertia**: as a measure of how internally coherent clusters are\n",
    "\n",
    "more suitable than hierarchical clustering for large amounts of data\n",
    "\n",
    "K-means is often referred to as `Lloyd’s algorithm` and has three steps: \n",
    "- 1. hooses the initial centroid\n",
    "- 2. assigns each sample to its nearest centroid\n",
    "- 3. creates new centroids by taking the mean value of all of the samples assigned to each previous centroid\n",
    "\n",
    "\n"
   ]
  },
  {
   "cell_type": "markdown",
   "metadata": {},
   "source": [
    "###  K-Mean clustering implementations\n",
    "* sklearn.cluster.KMeans(n_clusters=8,init='k-mean++', max_iter=300, algorithm='lloyd',random_state=0)\n",
    "    - init:{‘k-means++’, ‘random’}\n",
    "        * ‘k-means++’ : selects initial cluster centers in a smart way to speed up convergence\n",
    "        * ‘random’: choose at random from data for the initial centroids\n",
    "    - algorithm:{“lloyd”, “elkan”}, default=”lloyd”\n",
    "        * lloyd: EM-style algorithm\n",
    "        * elkan: efficient on datasets with well-defined clusters; more memory intensive\n",
    "    - **Attributes**:\n",
    "        * cluster_centers_: Coordinates of cluster centers.\n",
    "        * labels_: Labels of each point\n",
    "        * inertia_: Sum of squared distances of samples to their closest cluster center\n",
    "    - **Methods**:\n",
    "        * fit(X): Compute k-means clustering.\n",
    "        * predict(X): Predict the closest cluster each sample in X belongs to.\n",
    "        * transform(X): distances of X to the cluster centers\n",
    "        * fit_predict(X): \n",
    "        * fit_transform(X):\n",
    "* scipy.cluster.vq.kmeans(data, k_or_guess, iter=20,)\n",
    "    - codebook: A k by N array of k centroids\n",
    "    - distortion:The mean Euclidean distance between the observations passed and the centroids generated.\n",
    "* scipy.cluster.vq.kmeans2(data, k, iter=10,minit)\n",
    "   * minit: Method for initialization\n",
    "       - random’: k centroids from a Gaussian with mean and variance estimated from the data.\n",
    "       - ‘points’:  choose k observations (rows) at random from data\n",
    "       - ‘++’:  choose k observations accordingly to the kmeans++ method\n",
    "   - **Attributes** \n",
    "    - centroid\n",
    "    - label\n",
    "   "
   ]
  },
  {
   "cell_type": "markdown",
   "metadata": {},
   "source": [
    "### Example of K-Mean using sklearn"
   ]
  },
  {
   "cell_type": "code",
   "execution_count": 169,
   "metadata": {},
   "outputs": [],
   "source": [
    "from sklearn.cluster import KMeans\n",
    "from sklearn import preprocessing\n",
    "df_norm = df.apply(preprocessing.scale, axis=0)\n",
    "kmeans= KMeans(n_clusters=6, random_state=0).fit(df_norm)"
   ]
  },
  {
   "cell_type": "markdown",
   "metadata": {},
   "source": [
    "**Members of each cluster**"
   ]
  },
  {
   "cell_type": "code",
   "execution_count": 170,
   "metadata": {},
   "outputs": [
    {
     "data": {
      "text/plain": [
       "array([2, 1, 2, 0, 3, 2, 1, 5, 2, 0, 4, 1, 0, 2, 1, 5, 1, 2, 2, 0, 1, 0])"
      ]
     },
     "execution_count": 170,
     "metadata": {},
     "output_type": "execute_result"
    }
   ],
   "source": [
    "labels=kmeans.labels_\n",
    "labels"
   ]
  },
  {
   "cell_type": "code",
   "execution_count": 171,
   "metadata": {},
   "outputs": [
    {
     "data": {
      "text/plain": [
       "Company\n",
       "Virginia        0\n",
       "Wisconsin       0\n",
       "Commonwealth    0\n",
       "Madison         0\n",
       "Northern        0\n",
       "Boston          1\n",
       "Hawaiian        1\n",
       "San Diego       1\n",
       "Pacific         1\n",
       "United          1\n",
       "New England     1\n",
       "Texas           2\n",
       "Southern        2\n",
       "Arizona         2\n",
       "Kentucky        2\n",
       "Florida         2\n",
       "Central         2\n",
       "Oklahoma        2\n",
       "NY              3\n",
       "Nevada          4\n",
       "Puget           5\n",
       "Idaho           5\n",
       "dtype: int32"
      ]
     },
     "execution_count": 171,
     "metadata": {},
     "output_type": "execute_result"
    }
   ],
   "source": [
    "memb=pd.Series(labels, index=df_norm.index)\n",
    "memb.sort_values()"
   ]
  },
  {
   "cell_type": "markdown",
   "metadata": {},
   "source": [
    "**Centriod of each cluster**"
   ]
  },
  {
   "cell_type": "code",
   "execution_count": 102,
   "metadata": {},
   "outputs": [
    {
     "name": "stdout",
     "output_type": "stream",
     "text": [
      "   Fixed_charge    RoR   Cost  Load_factor  Demand_growth  Sales  Nuclear  \\\n",
      "0        -0.012  0.339  0.224       -0.366          0.170 -0.411    1.602   \n",
      "1        -0.633 -0.640  0.207        1.175          0.058 -0.758   -0.381   \n",
      "2         0.516  0.798 -1.009       -0.345         -0.501  0.360   -0.536   \n",
      "3         2.085 -0.883  0.592       -1.325         -0.736 -1.619    0.219   \n",
      "4        -2.020 -1.476  0.120       -1.257          1.070  2.458   -0.731   \n",
      "5         0.088 -0.541  1.996       -0.110          0.988  1.621   -0.731   \n",
      "\n",
      "   Fuel_Cost  \n",
      "0     -0.609  \n",
      "1      1.204  \n",
      "2     -0.420  \n",
      "3      1.732  \n",
      "4     -0.616  \n",
      "5     -1.175  \n"
     ]
    }
   ],
   "source": [
    "centroids = pd.DataFrame(kmeans.cluster_centers_,\n",
    "                        columns=df_norm.columns)\n",
    "pd.set_option('precision', 3)\n",
    "print(centroids)\n",
    "pd.set_option('precision', 6)"
   ]
  },
  {
   "cell_type": "code",
   "execution_count": 106,
   "metadata": {},
   "outputs": [
    {
     "data": {
      "text/html": [
       "<div>\n",
       "<style scoped>\n",
       "    .dataframe tbody tr th:only-of-type {\n",
       "        vertical-align: middle;\n",
       "    }\n",
       "\n",
       "    .dataframe tbody tr th {\n",
       "        vertical-align: top;\n",
       "    }\n",
       "\n",
       "    .dataframe thead th {\n",
       "        text-align: right;\n",
       "    }\n",
       "</style>\n",
       "<table border=\"1\" class=\"dataframe\">\n",
       "  <thead>\n",
       "    <tr style=\"text-align: right;\">\n",
       "      <th></th>\n",
       "      <th>Fixed_charge</th>\n",
       "      <th>RoR</th>\n",
       "      <th>Cost</th>\n",
       "      <th>Load_factor</th>\n",
       "      <th>Demand_growth</th>\n",
       "      <th>Sales</th>\n",
       "      <th>Nuclear</th>\n",
       "      <th>Fuel_Cost</th>\n",
       "    </tr>\n",
       "  </thead>\n",
       "  <tbody>\n",
       "    <tr>\n",
       "      <th>0</th>\n",
       "      <td>-0.012</td>\n",
       "      <td>0.339</td>\n",
       "      <td>0.224</td>\n",
       "      <td>-0.366</td>\n",
       "      <td>0.170</td>\n",
       "      <td>-0.411</td>\n",
       "      <td>1.602</td>\n",
       "      <td>-0.609</td>\n",
       "    </tr>\n",
       "    <tr>\n",
       "      <th>1</th>\n",
       "      <td>-0.633</td>\n",
       "      <td>-0.640</td>\n",
       "      <td>0.207</td>\n",
       "      <td>1.175</td>\n",
       "      <td>0.058</td>\n",
       "      <td>-0.758</td>\n",
       "      <td>-0.381</td>\n",
       "      <td>1.204</td>\n",
       "    </tr>\n",
       "    <tr>\n",
       "      <th>2</th>\n",
       "      <td>0.516</td>\n",
       "      <td>0.798</td>\n",
       "      <td>-1.009</td>\n",
       "      <td>-0.345</td>\n",
       "      <td>-0.501</td>\n",
       "      <td>0.360</td>\n",
       "      <td>-0.536</td>\n",
       "      <td>-0.420</td>\n",
       "    </tr>\n",
       "    <tr>\n",
       "      <th>3</th>\n",
       "      <td>2.085</td>\n",
       "      <td>-0.883</td>\n",
       "      <td>0.592</td>\n",
       "      <td>-1.325</td>\n",
       "      <td>-0.736</td>\n",
       "      <td>-1.619</td>\n",
       "      <td>0.219</td>\n",
       "      <td>1.732</td>\n",
       "    </tr>\n",
       "    <tr>\n",
       "      <th>4</th>\n",
       "      <td>-2.020</td>\n",
       "      <td>-1.476</td>\n",
       "      <td>0.120</td>\n",
       "      <td>-1.257</td>\n",
       "      <td>1.070</td>\n",
       "      <td>2.458</td>\n",
       "      <td>-0.731</td>\n",
       "      <td>-0.616</td>\n",
       "    </tr>\n",
       "    <tr>\n",
       "      <th>5</th>\n",
       "      <td>0.088</td>\n",
       "      <td>-0.541</td>\n",
       "      <td>1.996</td>\n",
       "      <td>-0.110</td>\n",
       "      <td>0.988</td>\n",
       "      <td>1.621</td>\n",
       "      <td>-0.731</td>\n",
       "      <td>-1.175</td>\n",
       "    </tr>\n",
       "  </tbody>\n",
       "</table>\n",
       "</div>"
      ],
      "text/plain": [
       "   Fixed_charge    RoR   Cost  Load_factor  Demand_growth  Sales  Nuclear  \\\n",
       "0        -0.012  0.339  0.224       -0.366          0.170 -0.411    1.602   \n",
       "1        -0.633 -0.640  0.207        1.175          0.058 -0.758   -0.381   \n",
       "2         0.516  0.798 -1.009       -0.345         -0.501  0.360   -0.536   \n",
       "3         2.085 -0.883  0.592       -1.325         -0.736 -1.619    0.219   \n",
       "4        -2.020 -1.476  0.120       -1.257          1.070  2.458   -0.731   \n",
       "5         0.088 -0.541  1.996       -0.110          0.988  1.621   -0.731   \n",
       "\n",
       "   Fuel_Cost  \n",
       "0     -0.609  \n",
       "1      1.204  \n",
       "2     -0.420  \n",
       "3      1.732  \n",
       "4     -0.616  \n",
       "5     -1.175  "
      ]
     },
     "execution_count": 106,
     "metadata": {},
     "output_type": "execute_result"
    }
   ],
   "source": [
    "pd.set_option('precision', 3)\n",
    "df_norm.groupby(kmeans.labels_).mean()"
   ]
  },
  {
   "cell_type": "code",
   "execution_count": 107,
   "metadata": {},
   "outputs": [],
   "source": [
    "pd.set_option('precision', 6)"
   ]
  },
  {
   "cell_type": "markdown",
   "metadata": {},
   "source": [
    "**Distance of each data point from each cluster**"
   ]
  },
  {
   "cell_type": "code",
   "execution_count": 149,
   "metadata": {},
   "outputs": [
    {
     "data": {
      "text/plain": [
       "array([2.80463747, 3.01304154, 1.91183392, 4.22015724, 3.57331973,\n",
       "       3.34302792])"
      ]
     },
     "execution_count": 149,
     "metadata": {},
     "output_type": "execute_result"
    }
   ],
   "source": [
    "distances = kmeans.transform(df_norm)\n",
    "distances[0]"
   ]
  },
  {
   "cell_type": "code",
   "execution_count": 120,
   "metadata": {},
   "outputs": [
    {
     "data": {
      "text/plain": [
       "33.611078163255705"
      ]
     },
     "execution_count": 120,
     "metadata": {},
     "output_type": "execute_result"
    }
   ],
   "source": [
    "kmeans.inertia_"
   ]
  },
  {
   "cell_type": "markdown",
   "metadata": {},
   "source": [
    "**Distance of each cluster from other clusters**"
   ]
  },
  {
   "cell_type": "code",
   "execution_count": 109,
   "metadata": {},
   "outputs": [
    {
     "name": "stdout",
     "output_type": "stream",
     "text": [
      "          0         1         2         3         4         5\n",
      "0  0.000000  3.327706  2.767756  4.076778  4.756091  3.814743\n",
      "1  3.327706  0.000000  3.376575  3.982534  4.831882  4.205250\n",
      "2  2.767756  3.376575  0.000000  4.240989  4.544657  3.933837\n",
      "3  4.076778  3.982534  4.240989  0.000000  6.613030  5.511431\n",
      "4  4.756091  4.831882  4.544657  6.613030  0.000000  3.342656\n",
      "5  3.814743  4.205250  3.933837  5.511431  3.342656  0.000000\n"
     ]
    }
   ],
   "source": [
    "print(pd.DataFrame(pairwise.pairwise_distances(kmeans.cluster_centers_, \n",
    "                                               metric='euclidean')))"
   ]
  },
  {
   "cell_type": "code",
   "execution_count": 119,
   "metadata": {},
   "outputs": [
    {
     "data": {
      "image/png": "[encoded data removed]",
      "text/plain": [
       "<Figure size 432x288 with 1 Axes>"
      ]
     },
     "metadata": {
      "needs_background": "light"
     },
     "output_type": "display_data"
    }
   ],
   "source": [
    "import warnings\n",
    "warnings.filterwarnings(\"ignore\")\n",
    "inertia = []\n",
    "for n_clusters in range(1, 11):\n",
    "    kmeans = KMeans(n_clusters=n_clusters, random_state=0).fit(df_norm)\n",
    "    inertia.append(kmeans.inertia_ / n_clusters)\n",
    "inertias = pd.DataFrame({'n_clusters': range(1, 11), 'inertia': inertia})\n",
    "ax = inertias.plot(x='n_clusters', y='inertia')\n",
    "plt.xlabel('Number of clusters(k)')\n",
    "plt.ylabel('Average Within-Cluster Squared Distances')\n",
    "plt.ylim((0, 1.1 * inertias.inertia.max()))\n",
    "ax.legend().set_visible(False)\n",
    "plt.show()"
   ]
  },
  {
   "cell_type": "markdown",
   "metadata": {},
   "source": [
    "#### using scipy kmeans2"
   ]
  },
  {
   "cell_type": "code",
   "execution_count": 161,
   "metadata": {},
   "outputs": [],
   "source": [
    "from numpy import array\n",
    "from scipy.cluster.vq import kmeans2, whiten\n",
    "whitened = whiten(df)\n",
    "centroid, label= kmeans2(whitened,k=6)"
   ]
  },
  {
   "cell_type": "code",
   "execution_count": 165,
   "metadata": {},
   "outputs": [
    {
     "data": {
      "text/plain": [
       "array([[ 5.88010245,  4.19620902,  3.75208458, 12.48113209,  0.52518305,\n",
       "         2.6170838 ,  0.        ,  1.15587254],\n",
       "       [ 4.93706715,  4.69792966,  5.01934494, 13.2841461 ,  0.7221267 ,\n",
       "         1.46697393,  1.54213311,  2.86207294],\n",
       "       [ 7.93259104,  7.02408901,  2.80785138, 12.15992648,  1.11601399,\n",
       "         2.65600705,  0.        ,  1.94731394],\n",
       "       [ 5.65821179,  5.10842837,  4.1745047 , 12.84822421,  0.09847182,\n",
       "         1.8518816 ,  2.09071801,  1.28839296],\n",
       "       [ 8.26542703,  4.01376515,  4.77086252, 11.74694785,  0.32823941,\n",
       "         0.95145715,  0.9508805 ,  3.76210745],\n",
       "       [ 7.32239173,  6.15748063,  2.75815489, 13.76595451, -0.7221267 ,\n",
       "         3.20814051,  1.37146225,  2.28413667],\n",
       "       [ 6.76766508,  5.56453805,  4.3484424 , 15.50964208,  0.7221267 ,\n",
       "         2.2033441 ,  0.        ,  3.04060739],\n",
       "       [ 6.10199311,  4.19620902,  6.08781936, 13.07765679,  1.08319005,\n",
       "         3.77180679,  0.        ,  0.56873347],\n",
       "       [ 7.43333706,  5.92942579,  4.1745047 , 13.85772754,  2.36332375,\n",
       "         2.42362085,  0.        ,  1.58656391],\n",
       "       [ 6.21293844,  5.65575998,  4.89510373, 12.15992648,  0.8862464 ,\n",
       "         1.86110785,  2.38939202,  1.14666974],\n",
       "       [ 4.16044984,  3.42082257,  4.29874591, 11.81577762,  2.13355616,\n",
       "         5.02859519,  0.        ,  1.41355114],\n",
       "       [ 6.2684111 ,  4.97159547,  4.42298712, 14.22481966,  1.21448581,\n",
       "         1.77432342,  0.        ,  3.49154493],\n",
       "       [ 6.37935643,  5.79259289,  4.94480021, 12.32052929,  2.10073222,\n",
       "         2.06985178,  3.05988467,  0.96997585],\n",
       "       [ 6.04652044,  5.47331611,  2.38543126, 11.42574224,  0.45953517,\n",
       "         2.78892273,  0.        ,  1.08225009],\n",
       "       [ 5.3253758 ,  3.46643354,  4.07511173, 14.27070618, -0.03282394,\n",
       "         1.86485601,  0.05485849,  2.57678593],\n",
       "       [ 6.43482909,  4.51548579,  6.26175705, 12.84822421,  3.01980256,\n",
       "         4.61053069,  0.        ,  1.14114805],\n",
       "       [ 4.21592251,  2.91910193,  3.37936095, 14.2018764 ,  2.95415468,\n",
       "         1.64746247,  0.50591719,  3.53387784],\n",
       "       [ 5.82462978,  5.74698192,  3.72723634, 13.00882701,  0.8862464 ,\n",
       "         2.92356833,  0.        ,  2.039342  ],\n",
       "       [ 6.43482909,  5.33648321,  2.5842172 , 12.38935906, -0.68930276,\n",
       "         3.89434294,  0.        ,  1.17059704],\n",
       "       [ 6.65671975,  5.38209418,  3.67753986, 13.74301125,  1.14883793,\n",
       "         2.10099038,  2.50520438,  1.29207409],\n",
       "       [ 5.76915712,  3.92254321,  5.06904142, 13.99538709,  1.14883793,\n",
       "         1.91733031,  0.        ,  3.89462787],\n",
       "       [ 5.93557511,  4.24181999,  4.32359415, 12.45818883,  1.93661251,\n",
       "         2.91001727,  1.62137315,  2.40377316]])"
      ]
     },
     "execution_count": 165,
     "metadata": {},
     "output_type": "execute_result"
    }
   ],
   "source": [
    "whitened"
   ]
  },
  {
   "cell_type": "code",
   "execution_count": 164,
   "metadata": {},
   "outputs": [
    {
     "data": {
      "text/plain": [
       "array([[ 6.58044484,  5.74128055,  3.5284504 , 12.60158419,  0.54980101,\n",
       "         2.5539056 ,  1.42708267,  1.3976763 ],\n",
       "       [ 4.16044984,  3.42082257,  4.29874591, 11.81577762,  2.13355616,\n",
       "         5.02859519,  0.        ,  1.41355114],\n",
       "       [ 6.40709276,  5.02480827,  4.7253074 , 13.46386829,  1.43331209,\n",
       "         3.09165909,  0.        ,  1.58871123],\n",
       "       [ 5.63323041,  3.40591691,  6.14325423, 12.30673292,  1.73193151,\n",
       "         2.56709606,  2.25388868,  1.238939  ],\n",
       "       [ 4.82220508,  3.24456369,  3.05402768, 12.07653652,  1.46105836,\n",
       "         1.15775555,  2.13851243,  3.84873634],\n",
       "       [ 5.81670512,  4.03331271,  4.43718612, 13.45458173,  1.18166187,\n",
       "         1.7903458 ,  0.66788035,  3.21782716]])"
      ]
     },
     "execution_count": 164,
     "metadata": {},
     "output_type": "execute_result"
    }
   ],
   "source": [
    "centroid"
   ]
  },
  {
   "cell_type": "code",
   "execution_count": 162,
   "metadata": {},
   "outputs": [
    {
     "data": {
      "text/plain": [
       "array([2, 5, 0, 0, 5, 0, 2, 2, 2, 0, 1, 5, 0, 0, 5, 2, 5, 2, 0, 0, 5, 5])"
      ]
     },
     "execution_count": 162,
     "metadata": {},
     "output_type": "execute_result"
    }
   ],
   "source": [
    "label"
   ]
  },
  {
   "cell_type": "code",
   "execution_count": 166,
   "metadata": {},
   "outputs": [
    {
     "data": {
      "text/plain": [
       "Company\n",
       "Wisconsin       0\n",
       "Central         0\n",
       "Commonwealth    0\n",
       "Texas           0\n",
       "Florida         0\n",
       "Oklahoma        0\n",
       "Madison         0\n",
       "Northern        0\n",
       "Nevada          1\n",
       "Southern        2\n",
       "Puget           2\n",
       "Arizona         2\n",
       "Kentucky        2\n",
       "Idaho           2\n",
       "Hawaiian        2\n",
       "United          5\n",
       "Pacific         5\n",
       "San Diego       5\n",
       "NY              5\n",
       "Boston          5\n",
       "New England     5\n",
       "Virginia        5\n",
       "dtype: int32"
      ]
     },
     "execution_count": 166,
     "metadata": {},
     "output_type": "execute_result"
    }
   ],
   "source": [
    "memb2=pd.Series(label, index=df_norm.index)\n",
    "memb.sort_values()"
   ]
  },
  {
   "cell_type": "markdown",
   "metadata": {},
   "source": [
    "## Clustering performance evaluation\n",
    "**If ground truth class assignments of the samples in known:**\n",
    "- Rand Index: $\\frac{Number of agreeing pairs}{Number of pairs}$ \n",
    "\n",
    "sklearn.metrics.rand_score(labels_true, labels_pred)\n",
    "- homogeneity_score: (homogeneity) each cluster contains only members of a single class.\n",
    "\n",
    "sklearn.metrics.homogeneity_score(labels_true, labels_pred)\n",
    "- completeness_score: all members of a given class are assigned to the same cluster\n",
    "\n",
    "sklearn.metrics.completeness_score(labels_true, labels_pred)\n",
    "\n",
    "* Fowlkes-Mallows scores: $FMI= \\frac{TP}{\\sqrt{(TP+FP)(TP+FN)}}$\n",
    "\n",
    "sklearn.metrics.fowlkes_mallows_score(labels_true, labels_pred)\n",
    "\n",
    "**If ground truth class assignments of the samples in known:**\n",
    "- Silhouette Coefficient: $s= \\frac{b-a}{max(a,b)}$ where \n",
    "\n",
    "a: The mean distance between a sample and all other points in the same class.\n",
    "\n",
    "b: The mean distance between a sample and all other points in the next nearest cluster.\n",
    "\n",
    "s=-1: incrorrect clustering and s = 1: highly dense clustering. Scores around zero indicate overlapping clusters.\n",
    "\n",
    "sklearn.metrics.silhouette_score(df, kmeans_model.labels_, metric='euclidean')\n",
    "\n",
    "\n",
    "-  Variance Ratio Criterion (Calinski-Harabasz Index): higher score, better model. \n",
    "\n",
    " The index is the ratio of the sum of between-clusters dispersion and of within-cluster dispersion for all clusters (where dispersion is defined as the sum of distances squared):\n",
    " \n",
    "sklearn.metrics.calinski_harabasz_score(df, kmeans_model.labels_)"
   ]
  },
  {
   "cell_type": "code",
   "execution_count": 26,
   "metadata": {},
   "outputs": [
    {
     "name": "stdout",
     "output_type": "stream",
     "text": [
      "Rand Score:  0.8322147651006712\n",
      "homogeneity_score:  0.6591265018049008\n",
      "Fowlkes-Mallows:  0.7452105043132992\n"
     ]
    }
   ],
   "source": [
    "from sklearn.cluster import KMeans\n",
    "from sklearn.metrics import rand_score,homogeneity_score,fowlkes_mallows_score\n",
    "from sklearn.preprocessing import StandardScaler\n",
    "from sklearn import datasets\n",
    "iris = datasets.load_iris()\n",
    "X = iris.data\n",
    "y = iris.target\n",
    "X = StandardScaler().fit_transform(X)\n",
    "kmeans= KMeans(n_clusters=3)\n",
    "kmeans.fit(X)\n",
    "print('Rand Score: ', rand_score(y, kmeans.labels_))\n",
    "print('homogeneity_score: ', homogeneity_score(y, kmeans.labels_))\n",
    "print('Fowlkes-Mallows: ', fowlkes_mallows_score(y, kmeans.labels_))"
   ]
  },
  {
   "cell_type": "code",
   "execution_count": 28,
   "metadata": {},
   "outputs": [
    {
     "name": "stdout",
     "output_type": "stream",
     "text": [
      "silhouette_score:  0.23899253580736135\n",
      "calinski_harabasz_score:  5.716007628505667\n"
     ]
    }
   ],
   "source": [
    "from sklearn.cluster import KMeans\n",
    "from sklearn.metrics import silhouette_score,calinski_harabasz_score\n",
    "from sklearn import preprocessing\n",
    "df_norm = df.apply(preprocessing.scale, axis=0)\n",
    "kmeans= KMeans(n_clusters=6, random_state=0).fit(df_norm)\n",
    "print('silhouette_score: ',silhouette_score(df_norm, kmeans.labels_,\n",
    "                                            metric='euclidean'))\n",
    "print('calinski_harabasz_score: ',calinski_harabasz_score(df_norm,\n",
    "                                                          kmeans.labels_))\n"
   ]
  }
 ],
 "metadata": {
  "kernelspec": {
   "display_name": "Python 3 (ipykernel)",
   "language": "python",
   "name": "python3"
  },
  "language_info": {
   "codemirror_mode": {
    "name": "ipython",
    "version": 3
   },
   "file_extension": ".py",
   "mimetype": "text/x-python",
   "name": "python",
   "nbconvert_exporter": "python",
   "pygments_lexer": "ipython3",
   "version": "3.9.7"
  }
 },
 "nbformat": 4,
 "nbformat_minor": 2
}
